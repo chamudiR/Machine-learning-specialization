{
  "nbformat": 4,
  "nbformat_minor": 0,
  "metadata": {
    "colab": {
      "provenance": [],
      "authorship_tag": "ABX9TyNgRqElD9l44RZxRM++YE/U",
      "include_colab_link": true
    },
    "kernelspec": {
      "name": "python3",
      "display_name": "Python 3"
    },
    "language_info": {
      "name": "python"
    }
  },
  "cells": [
    {
      "cell_type": "markdown",
      "metadata": {
        "id": "view-in-github",
        "colab_type": "text"
      },
      "source": [
        "<a href=\"https://colab.research.google.com/github/chamudiR/Machine-learning-specialization/blob/main/Advanced_learning_Algorithms.ipynb\" target=\"_parent\"><img src=\"https://colab.research.google.com/assets/colab-badge.svg\" alt=\"Open In Colab\"/></a>"
      ]
    },
    {
      "cell_type": "code",
      "source": [
        "pip install lab_utils_common\n"
      ],
      "metadata": {
        "colab": {
          "base_uri": "https://localhost:8080/"
        },
        "id": "A4V74a06S90t",
        "outputId": "e73fc4a6-8a98-48c6-ca1a-fc5f76038340"
      },
      "execution_count": null,
      "outputs": [
        {
          "output_type": "stream",
          "name": "stdout",
          "text": [
            "\u001b[31mERROR: Could not find a version that satisfies the requirement lab_utils_common (from versions: none)\u001b[0m\u001b[31m\n",
            "\u001b[0m\u001b[31mERROR: No matching distribution found for lab_utils_common\u001b[0m\u001b[31m\n",
            "\u001b[0m"
          ]
        }
      ]
    },
    {
      "cell_type": "code",
      "source": [
        "def dense(a_in,W,b):\n",
        "  units = W.shape[1]\n",
        "  a_out = np.zeros(units)\n",
        "  for j in range(units):\n",
        "    w = w[:,j]\n",
        "    z = np.dot(w,a_in) + b[j]\n",
        "    a_out[j] = g(z)\n",
        "  return a_out\n",
        "\n"
      ],
      "metadata": {
        "id": "DKQxBDqiYcY8"
      },
      "execution_count": null,
      "outputs": []
    },
    {
      "cell_type": "code",
      "source": [
        "def sequential(x):\n",
        "  a1 = dense(x,w1,b1)\n",
        "  a2 = dense(a1,w2,b2)\n",
        "  a3 = dense(a2,w2,b3)\n",
        "  a4 = dense(a3,w2,b4)\n",
        "  f_x = a4\n",
        "  return f_x"
      ],
      "metadata": {
        "id": "pj3zRrFcZlWq"
      },
      "execution_count": null,
      "outputs": []
    },
    {
      "cell_type": "code",
      "source": [
        "import numpy as np\n",
        "import matplotlib.pyplot as plt\n",
        "import tensorflow as tf\n",
        "from tensorflow.keras.layers import Dense, Input\n",
        "from tensorflow.keras import Sequential\n",
        "from tensorflow.keras.losses import MeanSquaredError, BinaryCrossentropy\n",
        "from tensorflow.keras.activations import sigmoid\n"
      ],
      "metadata": {
        "id": "4ilK_EQaSQLH"
      },
      "execution_count": null,
      "outputs": []
    },
    {
      "cell_type": "code",
      "execution_count": null,
      "metadata": {
        "id": "-s1RCDocRMWa"
      },
      "outputs": [],
      "source": [
        "x = np.array([[200.0,17.0]])\n",
        "layer_1 = Dense(units = 3, activation = \"sigmoid\")\n",
        "layer_2 = Dense(units = 1, activation = \"sigmoid\")\n"
      ]
    },
    {
      "cell_type": "code",
      "source": [
        "layer_1.get_weights()"
      ],
      "metadata": {
        "colab": {
          "base_uri": "https://localhost:8080/"
        },
        "id": "DRNR9YkvTR6o",
        "outputId": "29f4c678-79ad-4fc1-9c86-9273477e1d84"
      },
      "execution_count": null,
      "outputs": [
        {
          "output_type": "execute_result",
          "data": {
            "text/plain": [
              "[array([[-1.012334  ,  0.42206454,  0.20414782],\n",
              "        [-0.25792754,  0.6601465 ,  0.08716226]], dtype=float32),\n",
              " array([0., 0., 0.], dtype=float32)]"
            ]
          },
          "metadata": {},
          "execution_count": 9
        }
      ]
    },
    {
      "cell_type": "markdown",
      "source": [
        "Dense is another name for layers\n",
        "3 units = 3 neurons"
      ],
      "metadata": {
        "id": "2Rx36E5qRsy4"
      }
    },
    {
      "cell_type": "code",
      "source": [
        "model = sequential([layer_1,layer_2])"
      ],
      "metadata": {
        "id": "ZSvYn7ByVSjj"
      },
      "execution_count": null,
      "outputs": []
    },
    {
      "cell_type": "code",
      "source": [
        "layer_1 = Dense(25, activation = 'sigmoid')\n",
        "layer_2 = Dense(15, activation = 'sigmoid')\n",
        "layer_3 = Dense(1, activation = 'sigmoid')\n",
        "\n",
        "model = Sequential(\n",
        "    [\n",
        "        tf.keras.Input(shape=(400,)),    #specify input size\n",
        "        layer_1,layer_2,layer_3\n",
        "    ], name = \"my_model\"\n",
        ")\n"
      ],
      "metadata": {
        "id": "GueqjN4ZmtPI"
      },
      "execution_count": null,
      "outputs": []
    },
    {
      "cell_type": "code",
      "source": [
        "#### Examine Weights shapes\n",
        "W1,b1 = layer1.get_weights()\n",
        "W2,b2 = layer2.get_weights()\n",
        "W3,b3 = layer3.get_weights()\n",
        "print(f\"W1 shape = {W1.shape}, b1 shape = {b1.shape}\")\n",
        "print(f\"W2 shape = {W2.shape}, b2 shape = {b2.shape}\")\n",
        "print(f\"W3 shape = {W3.shape}, b3 shape = {b3.shape}\")"
      ],
      "metadata": {
        "id": "CGAQ5JdPm1fx"
      },
      "execution_count": null,
      "outputs": []
    },
    {
      "cell_type": "markdown",
      "source": [
        "Below binaryCrossentrophy is basically the logistic loss function"
      ],
      "metadata": {
        "id": "9n70tIGonIVb"
      }
    },
    {
      "cell_type": "code",
      "source": [
        "model.compile(\n",
        "    loss=tf.keras.losses.BinaryCrossentropy(),\n",
        "    optimizer=tf.keras.optimizers.Adam(0.001),\n",
        ")\n",
        "\n",
        "model.fit(\n",
        "    X,y,\n",
        "    epochs=20\n",
        ")"
      ],
      "metadata": {
        "id": "yE1YcsB1m2yG"
      },
      "execution_count": null,
      "outputs": []
    },
    {
      "cell_type": "markdown",
      "source": [
        "If we are using regression (predicting numbers instead of categories, we can use a different loss function"
      ],
      "metadata": {
        "id": "xuyjZoHqnXfz"
      }
    },
    {
      "cell_type": "code",
      "source": [],
      "metadata": {
        "id": "Sv-r0JAVm2uv"
      },
      "execution_count": null,
      "outputs": []
    },
    {
      "cell_type": "code",
      "source": [],
      "metadata": {
        "id": "eHKRlgAsm2na"
      },
      "execution_count": null,
      "outputs": []
    },
    {
      "cell_type": "code",
      "source": [],
      "metadata": {
        "id": "MGZdxgC8m2YX"
      },
      "execution_count": null,
      "outputs": []
    }
  ]
}